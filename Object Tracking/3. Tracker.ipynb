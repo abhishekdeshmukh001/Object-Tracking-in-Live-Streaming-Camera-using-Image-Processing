{
 "cells": [
  {
   "cell_type": "code",
   "execution_count": null,
   "id": "7ede637d",
   "metadata": {},
   "outputs": [],
   "source": [
    "import math\n",
    "\n",
    "\n",
    "class EuclideanDistTracker:\n",
    "    def __init__(self):\n",
    "        # Store the center positions of the objects\n",
    "        self.center_points = {}\n",
    "        # Keep the count of the IDs\n",
    "        # each time a new object id detected, the count will increase by one\n",
    "        self.id_count = 0\n",
    "\n",
    "\n",
    "    def update(self, objects_rect):\n",
    "        # Objects boxes and ids\n",
    "        objects_bbs_ids = []\n",
    "\n",
    "        # Get center point of new object\n",
    "        for rect in objects_rect:\n",
    "            x, y, w, h = rect\n",
    "            cx = (x + x + w) // 2\n",
    "            cy = (y + y + h) // 2\n",
    "\n",
    "            # Find out if that object was detected already\n",
    "            same_object_detected = False\n",
    "            for id, pt in self.center_points.items():\n",
    "                dist = math.hypot(cx - pt[0], cy - pt[1])\n",
    "\n",
    "                if dist < 25:\n",
    "                    self.center_points[id] = (cx, cy)\n",
    "                    print(self.center_points)\n",
    "                    objects_bbs_ids.append([x, y, w, h, id])\n",
    "                    same_object_detected = True\n",
    "                    break\n",
    "\n",
    "            # New object is detected we assign the ID to that object\n",
    "            if same_object_detected is False:\n",
    "                self.center_points[self.id_count] = (cx, cy)\n",
    "                objects_bbs_ids.append([x, y, w, h, self.id_count])\n",
    "                self.id_count += 1\n",
    "\n",
    "        # Clean the dictionary by center points to remove IDS not used anymore\n",
    "        new_center_points = {}\n",
    "        for obj_bb_id in objects_bbs_ids:\n",
    "            _, _, _, _, object_id = obj_bb_id\n",
    "            center = self.center_points[object_id]\n",
    "            new_center_points[object_id] = center\n",
    "\n",
    "        # Update dictionary with IDs not used removed\n",
    "        self.center_points = new_center_points.copy()\n",
    "        return objects_bbs_ids\n"
   ]
  },
  {
   "cell_type": "code",
   "execution_count": null,
   "id": "426465a1",
   "metadata": {},
   "outputs": [],
   "source": [
    "import cv2\n",
    "from tracker import *"
   ]
  },
  {
   "cell_type": "markdown",
   "id": "0151ae5c",
   "metadata": {},
   "source": [
    "### Create Tracker object"
   ]
  },
  {
   "cell_type": "code",
   "execution_count": null,
   "id": "c83b155e",
   "metadata": {},
   "outputs": [],
   "source": [
    "tracker = EuclideanDistTracker()"
   ]
  },
  {
   "cell_type": "code",
   "execution_count": null,
   "id": "f186aa13",
   "metadata": {},
   "outputs": [],
   "source": [
    "cap = cv2.VideoCapture(r'D:\\7.30 PM DATA SCIENCE AND AI\\TF, KERAS, OPENCV CODES\\sample_videos\\highway.mp4')"
   ]
  },
  {
   "cell_type": "code",
   "execution_count": null,
   "id": "c90574eb",
   "metadata": {},
   "outputs": [],
   "source": [
    "# Object Detection from Stable Camera\n",
    "object_detector = cv2.createBackgroundSubtractorMOG2(history=100, varThreshold=40)\n",
    "\n",
    "while True:\n",
    "    ret, frame = cap.read()\n",
    "    height, width, _ = frame.shape\n",
    "    \n",
    "    # Extract Region of Interest (RoI)\n",
    "    roi = frame[340:720, 500:800]  #  extract a portion of the frame from row 340 to 720 and column 500 to 800\n",
    "    \n",
    "    # 1. Object Detection\n",
    "    mask = object_detector.apply(roi)\n",
    "    \n",
    "    # Threshold the mask\n",
    "    _, mask = cv2.threshold(mask, 254, 255, cv2.THRESH_BINARY)\n",
    "    # Pixels with values greater than 254 are set to 255 (white), and the rest are set to 0 (black)\n",
    "    # Converts the mask into a binary image, where white pixels represent the detected objects, and black pixels represent the background\n",
    "    \n",
    "    \n",
    "    # Contours are the boundaries of the white regions in the binary image\n",
    "    contours, _ = cv2.findContours(mask, cv2.RETR_TREE, cv2.CHAIN_APPROX_SIMPLE)\n",
    "    \n",
    "    detections = []\n",
    "    \n",
    "    for cnt in contours:\n",
    "        # Calculate area and remove small elements\n",
    "        area = cv2.contourArea(cnt)\n",
    "        \n",
    "        if area > 100:\n",
    "            # Calculate bounding rectangle : minimal area rectangle that encloses the contour\n",
    "            x, y, w, h = cv2.boundingRect(cnt)\n",
    "            detections.append([x,y,w,h])\n",
    "            \n",
    "    # 2. Object Tracking\n",
    "    boxes_ids = tracker.update(detections)\n",
    "    \n",
    "    # For each tracked object, a bounding rectangle is drawn around it, and its unique ID is displayed above the rectangle\n",
    "    # Visualize the tracked objects in the Region of Interest (RoI).\n",
    "    for box_id in boxes_ids:\n",
    "        x,y,w,h, id = box_id\n",
    "        cv2.putText(roi, str(id), (x, y-15), cv2.FONT_HERSHEY_PLAIN, 2, (0,0,255), 2)\n",
    "        cv2.rectangle(roi, (x,y), (x+w, y+h), (0,255,0), 3)\n",
    "        \n",
    "        cv2.imshow('ROI', roi)\n",
    "        cv2.imshow('Frame', frame)\n",
    "        cv2.imshow('Mask', mask)\n",
    "        \n",
    "        if cv2.waitKey(1)==13:\n",
    "            break\n",
    "            \n",
    "cap.release()\n",
    "cv2.destroyAllWindows()"
   ]
  },
  {
   "cell_type": "code",
   "execution_count": null,
   "id": "40e3d71d",
   "metadata": {},
   "outputs": [],
   "source": []
  }
 ],
 "metadata": {
  "kernelspec": {
   "display_name": "Python 3 (ipykernel)",
   "language": "python",
   "name": "python3"
  },
  "language_info": {
   "codemirror_mode": {
    "name": "ipython",
    "version": 3
   },
   "file_extension": ".py",
   "mimetype": "text/x-python",
   "name": "python",
   "nbconvert_exporter": "python",
   "pygments_lexer": "ipython3",
   "version": "3.11.5"
  }
 },
 "nbformat": 4,
 "nbformat_minor": 5
}
