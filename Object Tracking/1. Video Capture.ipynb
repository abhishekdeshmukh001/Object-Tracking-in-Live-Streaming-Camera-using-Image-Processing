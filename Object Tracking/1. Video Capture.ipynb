{
 "cells": [
  {
   "cell_type": "code",
   "execution_count": null,
   "id": "7dde15cb",
   "metadata": {},
   "outputs": [],
   "source": [
    "import cv2\n",
    "from tracker import *"
   ]
  },
  {
   "cell_type": "code",
   "execution_count": null,
   "id": "254f3a79",
   "metadata": {},
   "outputs": [],
   "source": [
    "cap = cv2.VideoCapture(r'D:\\7.30 PM DATA SCIENCE AND AI\\TF, KERAS, OPENCV CODES\\sample_videos\\highway.mp4')"
   ]
  },
  {
   "cell_type": "code",
   "execution_count": null,
   "id": "ddc8d567",
   "metadata": {},
   "outputs": [],
   "source": [
    "desired_width = 700\n",
    "desired_height = 500\n",
    "\n",
    "screen_width = 1366\n",
    "screen_height = 800\n",
    "x_position = int((screen_width - desired_width) / 2)\n",
    "y_position = int((screen_height - desired_height) / 2)\n",
    "\n",
    "while True:\n",
    "    ret, frame = cap.read()\n",
    "    frame = cv2.resize(frame, (desired_width, desired_height))\n",
    "    \n",
    "    cv2.imshow('Frame', frame)\n",
    "    cv2.moveWindow('Frame', x_position, y_position)\n",
    "    \n",
    "    if cv2.waitKey(1)==13:\n",
    "        break\n",
    "    \n",
    "cap.release()\n",
    "cv2.destroyAllWindows()"
   ]
  },
  {
   "cell_type": "code",
   "execution_count": null,
   "id": "c6df6e39",
   "metadata": {},
   "outputs": [],
   "source": []
  }
 ],
 "metadata": {
  "kernelspec": {
   "display_name": "Python 3 (ipykernel)",
   "language": "python",
   "name": "python3"
  },
  "language_info": {
   "codemirror_mode": {
    "name": "ipython",
    "version": 3
   },
   "file_extension": ".py",
   "mimetype": "text/x-python",
   "name": "python",
   "nbconvert_exporter": "python",
   "pygments_lexer": "ipython3",
   "version": "3.11.5"
  }
 },
 "nbformat": 4,
 "nbformat_minor": 5
}
