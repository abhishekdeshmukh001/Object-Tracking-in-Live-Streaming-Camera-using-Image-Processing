{
 "cells": [
  {
   "cell_type": "code",
   "execution_count": 1,
   "id": "d296e492",
   "metadata": {},
   "outputs": [],
   "source": [
    "import cv2\n",
    "from tracker import *"
   ]
  },
  {
   "cell_type": "code",
   "execution_count": 2,
   "id": "a34115dc",
   "metadata": {},
   "outputs": [],
   "source": [
    "cap = cv2.VideoCapture(r'D:\\7.30 PM DATA SCIENCE AND AI\\TF, KERAS, OPENCV CODES\\sample_videos\\highway.mp4')"
   ]
  },
  {
   "cell_type": "code",
   "execution_count": 3,
   "id": "880e9b41",
   "metadata": {},
   "outputs": [],
   "source": [
    "desired_width = 700\n",
    "desired_height = 500\n",
    "\n",
    "'''\n",
    "screen_width = 1366\n",
    "screen_height = 800\n",
    "x_position = int((screen_width - desired_width) / 2)\n",
    "y_position = int((screen_height - desired_height) / 2)\n",
    "'''\n",
    "\n",
    "# Object detection from Stable camera\n",
    "object_detector = cv2.createBackgroundSubtractorMOG2(history=100, varThreshold=40)\n",
    "\n",
    "while True:\n",
    "    ret, frame = cap.read()\n",
    "    frame = cv2.resize(frame, (desired_width, desired_height))\n",
    "    \n",
    "    mask = object_detector.apply(frame)\n",
    "    \n",
    "    cv2.imshow('Frame', frame)\n",
    "    cv2.imshow('Mask', mask)\n",
    "    \n",
    "    '''\n",
    "    cv2.moveWindow('Frame', x_position, y_position)\n",
    "    cv2.moveWindow('Mask', x_position, y_position)\n",
    "    '''\n",
    "    \n",
    "    if cv2.waitKey(1)==13:\n",
    "        break\n",
    "        \n",
    "cap.release()\n",
    "cv2.destroyAllWindows()"
   ]
  },
  {
   "cell_type": "code",
   "execution_count": null,
   "id": "cc5f73cd",
   "metadata": {},
   "outputs": [],
   "source": []
  }
 ],
 "metadata": {
  "kernelspec": {
   "display_name": "Python 3 (ipykernel)",
   "language": "python",
   "name": "python3"
  },
  "language_info": {
   "codemirror_mode": {
    "name": "ipython",
    "version": 3
   },
   "file_extension": ".py",
   "mimetype": "text/x-python",
   "name": "python",
   "nbconvert_exporter": "python",
   "pygments_lexer": "ipython3",
   "version": "3.11.5"
  }
 },
 "nbformat": 4,
 "nbformat_minor": 5
}
